{
  "nbformat": 4,
  "nbformat_minor": 0,
  "metadata": {
    "colab": {
      "name": "202109_baekjoon_Yangjojang of The Year.ipynb",
      "provenance": [],
      "authorship_tag": "ABX9TyOQMlsqNyIw7GgR6koeVA4s",
      "include_colab_link": true
    },
    "kernelspec": {
      "name": "python3",
      "display_name": "Python 3"
    },
    "language_info": {
      "name": "python"
    }
  },
  "cells": [
    {
      "cell_type": "markdown",
      "metadata": {
        "id": "view-in-github",
        "colab_type": "text"
      },
      "source": [
        "<a href=\"https://colab.research.google.com/github/2pterons/Algorithm/blob/main/202109_baekjoon_Yangjojang_of_The_Year.ipynb\" target=\"_parent\"><img src=\"https://colab.research.google.com/assets/colab-badge.svg\" alt=\"Open In Colab\"/></a>"
      ]
    },
    {
      "cell_type": "markdown",
      "metadata": {
        "id": "U36G-zeeSG6M"
      },
      "source": [
        "# 문제 <br/>\n",
        "입학 OT때 누구보다도 남다르게 놀았던 당신은 자연스럽게 1학년 과대를 역임하게 되었다.<br/><br/>\n",
        "\n",
        "타교와의 조인트 엠티를 기획하려는 당신은 근처에 있는 학교 중 어느 학교가 술을 가장 많이 먹는지 궁금해졌다.<br/><br/>\n",
        "\n",
        "학교별로 한 해동안 술 소비량이 주어질 때, 가장 술 소비가 많은 학교 이름을 출력하여라.<br/>\n",
        "<br/><br/>\n",
        "\n",
        "# 입력\n",
        "입력의 첫 줄에는 테스트 케이스의 숫자 T가 주어진다.<br/><br/>\n",
        "\n",
        "매 입력의 첫 줄에는 학교의 숫자 정수 N(1 ≤ N ≤ 100)이 주어진다.<br/><br/>\n",
        "\n",
        "이어서 N줄에 걸쳐 학교 이름 S(1 ≤ |S| ≤ 20, S는 공백없는 대소문자 알파벳 문자열)와 해당 학교가 지난 한 해동안 소비한 술의 양 L(0 <= L <= 10,000,000)이 공백으로 구분되어 정수로 주어진다.<br/><br/>\n",
        "\n",
        "같은 테스트 케이스 안에서 소비한 술의 양이 같은 학교는 없다고 가정한다.<br/>\n",
        "<br/><br/>\n",
        "# 출력\n",
        "각 테스트 케이스마다 한 줄에 걸쳐 술 소비가 가장 많은 학교의 이름을 출력한다.\n",
        "<br/><br/>\n",
        "\n",
        "\n",
        "### 예제입력\n",
        "```\n",
        "2\n",
        "3\n",
        "Yonsei 10\n",
        "Korea 10000000\n",
        "Ewha 20\n",
        "2\n",
        "Yonsei 1\n",
        "Korea 10000000\n",
        "```\n",
        "### 예제출력\n",
        "```\n",
        "예제 출력\n",
        "```\n"
      ]
    },
    {
      "cell_type": "markdown",
      "metadata": {
        "id": "3HnRADuCSH4K"
      },
      "source": [
        ""
      ]
    },
    {
      "cell_type": "code",
      "metadata": {
        "id": "BPK-BOVFSGd_"
      },
      "source": [
        ""
      ],
      "execution_count": null,
      "outputs": []
    }
  ]
}