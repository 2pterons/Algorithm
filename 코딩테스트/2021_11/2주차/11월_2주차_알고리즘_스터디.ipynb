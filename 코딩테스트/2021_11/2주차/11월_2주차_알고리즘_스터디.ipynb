{
  "nbformat": 4,
  "nbformat_minor": 0,
  "metadata": {
    "colab": {
      "name": "11월 2주차 알고리즘 스터디",
      "provenance": [],
      "authorship_tag": "ABX9TyOZioNs0udRoRY69UmTIWnp",
      "include_colab_link": true
    },
    "kernelspec": {
      "name": "python3",
      "display_name": "Python 3"
    },
    "language_info": {
      "name": "python"
    }
  },
  "cells": [
    {
      "cell_type": "markdown",
      "metadata": {
        "id": "view-in-github",
        "colab_type": "text"
      },
      "source": [
        "<a href=\"https://colab.research.google.com/github/2pterons/Algorithm/blob/main/%EC%BD%94%EB%94%A9%ED%85%8C%EC%8A%A4%ED%8A%B8/2021_11/2%EC%A3%BC%EC%B0%A8/11%EC%9B%94_2%EC%A3%BC%EC%B0%A8_%EC%95%8C%EA%B3%A0%EB%A6%AC%EC%A6%98_%EC%8A%A4%ED%84%B0%EB%94%94.ipynb\" target=\"_parent\"><img src=\"https://colab.research.google.com/assets/colab-badge.svg\" alt=\"Open In Colab\"/></a>"
      ]
    },
    {
      "cell_type": "markdown",
      "metadata": {
        "id": "2Ih6zJNALCm0"
      },
      "source": [
        "# 11월 2주차 알고리즘 스터디\n",
        "\n",
        "- 104페이지~121페이지\n",
        "- 공통 분량 \n",
        "  - Q09 책 323 페이지\n",
        "  - Q10 책 325 페이지 \n",
        "- 선택 분량 \n",
        "  - Q12 책 329 페이지\n",
        "\n",
        "<br/>\n",
        "\n",
        "- 문제 링크\n",
        "Q09) https://programmers.co.kr/learn/courses/30/lessons/60057\n",
        "Q10) https://programmers.co.kr/learn/courses/30/lessons/60059\n",
        "Q12) https://programmers.co.kr/learn/courses/30/lessons/60061\n",
        "\n",
        "<br/>\n",
        "\n",
        "- 업로드 링크\n",
        "https://github.com/itisused/Coding_Test_Study/issues/3"
      ]
    },
    {
      "cell_type": "code",
      "metadata": {
        "id": "MCQkamlrK7ni"
      },
      "source": [
        ""
      ],
      "execution_count": null,
      "outputs": []
    }
  ]
}