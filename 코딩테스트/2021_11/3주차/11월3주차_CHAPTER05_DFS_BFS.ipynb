{
  "nbformat": 4,
  "nbformat_minor": 0,
  "metadata": {
    "colab": {
      "name": "11월3주차_CHAPTER05_DFS/BFS.ipynb",
      "provenance": [],
      "collapsed_sections": [],
      "authorship_tag": "ABX9TyP33eKi6u0JftVB92Ys7wXU",
      "include_colab_link": true
    },
    "kernelspec": {
      "name": "python3",
      "display_name": "Python 3"
    },
    "language_info": {
      "name": "python"
    }
  },
  "cells": [
    {
      "cell_type": "markdown",
      "metadata": {
        "id": "view-in-github",
        "colab_type": "text"
      },
      "source": [
        "<a href=\"https://colab.research.google.com/github/2pterons/Algorithm/blob/main/%EC%BD%94%EB%94%A9%ED%85%8C%EC%8A%A4%ED%8A%B8/2021_11/3%EC%A3%BC%EC%B0%A8/11%EC%9B%943%EC%A3%BC%EC%B0%A8_CHAPTER05_DFS_BFS.ipynb\" target=\"_parent\"><img src=\"https://colab.research.google.com/assets/colab-badge.svg\" alt=\"Open In Colab\"/></a>"
      ]
    },
    {
      "cell_type": "markdown",
      "metadata": {
        "id": "dKJDByuue50H"
      },
      "source": [
        "# DFS\n",
        "\n",
        "- DFS는 **깊이 우선 탐색**이라고도 부르며 그래프에서 **깊은 부분을 우선적으로 탐색하는 알고리즘** 입니다.  \n",
        "- DFS는 **스택 자료구조(혹은 재귀 함수)를 이용**하며, 구체적인 동작 과정은 다음과 같습니다.  \n",
        "1. 탐색 시작 노드를 스택에 삽입하고 방문 처리를 합니다.\n",
        "2. 스택의 최상단 노드에 방문하지 않은 인접한 노드가 하나라도 있으면 그 노드를 스택에 넣고 방문 처리합니다. 방문하지 않은 인접 노드가 없으면 스택에서 최상단 노드를 꺼냅니다.\n",
        "3. 더 이상 2번의 과정을 수행할 수 없을 때까지 반복합니다."
      ]
    },
    {
      "cell_type": "code",
      "metadata": {
        "id": "Jwdt01BKfM07"
      },
      "source": [
        "# DFS 메서드 정의\n",
        "def dfs(graph, v, visited):\n",
        "  # 현재 노드를 방문 처리\n",
        "  visited[v] = True\n",
        "  print(v, end=' ')\n",
        "  # 현재 노드와 연결된 다른 노드를 재귀적으로 방문\n",
        "  for i in graph[v]:\n",
        "    if not visited[i]:\n",
        "      dfs(graph, i, visited)"
      ],
      "execution_count": 4,
      "outputs": []
    },
    {
      "cell_type": "code",
      "metadata": {
        "colab": {
          "base_uri": "https://localhost:8080/"
        },
        "id": "VovWrWOMex76",
        "outputId": "b7afdf25-e474-4c51-e56e-a93b22cb1d1f"
      },
      "source": [
        "# 각 노드가 연결된 정보를 표현 (2차원 리스트)\n",
        "graph = [\n",
        "    [],\n",
        "    [2,3,8],\n",
        "    [1,7],\n",
        "    [1,4,5],\n",
        "    [3,5],\n",
        "    [3,4],\n",
        "    [7],\n",
        "    [2,6,8],\n",
        "    [1,7]\n",
        "\n",
        "]\n",
        "\n",
        "# 각 노드가 방문된 정보를 표현 (1차원 리스트)\n",
        "visited = [False] * 9\n",
        "\n",
        "# 정의된 DFS 함수 호출\n",
        "dfs(graph, 1, visited)"
      ],
      "execution_count": 6,
      "outputs": [
        {
          "output_type": "stream",
          "name": "stdout",
          "text": [
            "1 2 7 6 8 3 4 5 "
          ]
        }
      ]
    },
    {
      "cell_type": "markdown",
      "metadata": {
        "id": "CbYSz9pHe4EK"
      },
      "source": [
        "<br/><br/>\n",
        "\n",
        "# BFS\n",
        "- BFS는 **너비 우선 탐색**이라고도 부르며, 그래프에서 **가까운 노드부터 우선적으로 탐색하는 알고리즘**입니다.\n",
        "- BFS는 **큐 자료구조**를 이용하며, 구체적인 동작 과정은 다음과 같습니다.\n",
        "1. 탐색 시작 노드를 큐에 삽입하고 방문 처리를 합니다.\n",
        "2. 큐에서 노드를 꺼낸 뒤에 해당 노드의 인접 노드 중에서 방문하지 않은 노드를 모두 큐에 삽입하고 방문 처리합니다.\n",
        "3. 더 이상 2번의 과정을 수행할 수 없을 떄까지 반복합니다."
      ]
    },
    {
      "cell_type": "code",
      "metadata": {
        "id": "CI-4XeqGf4z6"
      },
      "source": [
        "from collections import deque\n",
        "\n",
        "# BFS 메서드 정의\n",
        "def bfs(graph, start, visited):\n",
        "  # 큐(Queue) 구현을 위해 deque 라이브러리 사용\n",
        "  queue = deque([start])\n",
        "  # 현재 노드를 방문 처리\n",
        "  visited[start] = True\n",
        "  # 큐가 빌 때까지 반복\n",
        "  while queue:\n",
        "    # 큐에서 하나의 원소를 뽑아 출력하기\n",
        "    v = queue.popleft()\n",
        "    print(v, end=' ')\n",
        "    # 아직 방문하지 않은 인접한 원소들을 큐에 삽입\n",
        "    for i in graph[v]:\n",
        "      if not visited[i]:\n",
        "        queue.append(i)\n",
        "        visited[i] = True"
      ],
      "execution_count": 7,
      "outputs": []
    },
    {
      "cell_type": "code",
      "metadata": {
        "colab": {
          "base_uri": "https://localhost:8080/"
        },
        "id": "QUNLnMoUnHjJ",
        "outputId": "b9fb9ee3-4b56-4851-cb83-91d0197b19c9"
      },
      "source": [
        "# 각 노드가 연결된 정보를 표현 (2차원 리스트)\n",
        "graph = [\n",
        "    [],\n",
        "    [2,3,8],\n",
        "    [1,7],\n",
        "    [1,4,5],\n",
        "    [3,5],\n",
        "    [3,4],\n",
        "    [7],\n",
        "    [2,6,8],\n",
        "    [1,7]\n",
        "]\n",
        "\n",
        "# 각 노드가 방문된 정보를 표현 (1차원 리스트)\n",
        "visited = [False] * 9\n",
        "\n",
        "# 정의된 BFS 함수 호출\n",
        "bfs(graph, 1, visited)"
      ],
      "execution_count": 8,
      "outputs": [
        {
          "output_type": "stream",
          "name": "stdout",
          "text": [
            "1 2 3 8 7 4 5 6 "
          ]
        }
      ]
    },
    {
      "cell_type": "code",
      "metadata": {
        "id": "Tpy36uawnWjy"
      },
      "source": [
        ""
      ],
      "execution_count": null,
      "outputs": []
    }
  ]
}