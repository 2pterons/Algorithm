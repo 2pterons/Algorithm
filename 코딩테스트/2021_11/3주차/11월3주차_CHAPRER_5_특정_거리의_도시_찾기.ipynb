{
  "nbformat": 4,
  "nbformat_minor": 0,
  "metadata": {
    "colab": {
      "name": "11월3주차_CHAPRER_5.특정 거리의 도시 찾기.ipynb",
      "provenance": [],
      "authorship_tag": "ABX9TyMaaGCjfmn0q5s+OmjP/SR4",
      "include_colab_link": true
    },
    "kernelspec": {
      "name": "python3",
      "display_name": "Python 3"
    },
    "language_info": {
      "name": "python"
    }
  },
  "cells": [
    {
      "cell_type": "markdown",
      "metadata": {
        "id": "view-in-github",
        "colab_type": "text"
      },
      "source": [
        "<a href=\"https://colab.research.google.com/github/2pterons/Algorithm/blob/main/%EC%BD%94%EB%94%A9%ED%85%8C%EC%8A%A4%ED%8A%B8/2021_11/3%EC%A3%BC%EC%B0%A8/11%EC%9B%943%EC%A3%BC%EC%B0%A8_CHAPRER_5_%ED%8A%B9%EC%A0%95_%EA%B1%B0%EB%A6%AC%EC%9D%98_%EB%8F%84%EC%8B%9C_%EC%B0%BE%EA%B8%B0.ipynb\" target=\"_parent\"><img src=\"https://colab.research.google.com/assets/colab-badge.svg\" alt=\"Open In Colab\"/></a>"
      ]
    },
    {
      "cell_type": "markdown",
      "metadata": {
        "id": "myhC0S-WGZTc"
      },
      "source": [
        "# 특정 거리의 도시 찾기\n"
      ]
    },
    {
      "cell_type": "code",
      "metadata": {
        "id": "u629VHOJGPSw"
      },
      "source": [
        "특정 거리의 도시 찾기"
      ],
      "execution_count": null,
      "outputs": []
    }
  ]
}