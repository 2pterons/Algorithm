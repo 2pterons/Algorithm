{
  "nbformat": 4,
  "nbformat_minor": 0,
  "metadata": {
    "colab": {
      "name": "①뒤집기.ipynb",
      "provenance": [],
      "collapsed_sections": [],
      "authorship_tag": "ABX9TyODPNhlMGn9XOKLf9/UbqyB",
      "include_colab_link": true
    },
    "kernelspec": {
      "name": "python3",
      "display_name": "Python 3"
    },
    "language_info": {
      "name": "python"
    }
  },
  "cells": [
    {
      "cell_type": "markdown",
      "metadata": {
        "id": "view-in-github",
        "colab_type": "text"
      },
      "source": [
        "<a href=\"https://colab.research.google.com/github/2pterons/Algorithm/blob/main/%EC%BD%94%EB%94%A9%ED%85%8C%EC%8A%A4%ED%8A%B8/2021_10/%E2%91%A0%EB%92%A4%EC%A7%91%EA%B8%B0.ipynb\" target=\"_parent\"><img src=\"https://colab.research.google.com/assets/colab-badge.svg\" alt=\"Open In Colab\"/></a>"
      ]
    },
    {
      "cell_type": "markdown",
      "metadata": {
        "id": "TeCruGAgfh9d"
      },
      "source": [
        "# BAEKJOON 뒤집기\n",
        "\n",
        "### 문제\n",
        "다솜이는 0과 1로만 이루어진 문자열 S를 가지고 있다. 다솜이는 이 문자열 S에 있는 모든 숫자를 전부 같게 만들려고 한다. 다솜이가 할 수 있는 행동은 S에서 연속된 하나 이상의 숫자를 잡고 모두 뒤집는 것이다. 뒤집는 것은 1을 0으로, 0을 1로 바꾸는 것을 의미한다.<br/>\n",
        "\n",
        "예를 들어 S=0001100 일 때,<br/>\n",
        "\n",
        "1. 전체를 뒤집으면 1110011이 된다.\n",
        "2. 4번째 문자부터 5번째 문자까지 뒤집으면 1111111이 되어서 2번 만에 모두 같은 숫자로 만들 수 있다.\n",
        "<br/>\n",
        "\n",
        "하지만, 처음부터 4번째 문자부터 5번째 문자까지 문자를 뒤집으면 한 번에 0000000이 되어서 1번 만에 모두 같은 숫자로 만들 수 있다.<br/>\n",
        "\n",
        "문자열 S가 주어졌을 때, 다솜이가 해야하는 행동의 최소 횟수를 출력하시오.\n",
        "<br/><br/>\n",
        "\n",
        "### 입력\n",
        "첫째 줄에 문자열 S가 주어진다. S의 길이는 100만보다 작다.\n",
        "<br/>\n",
        "\n",
        "### 출력\n",
        "첫째 줄에 다솜이가 해야하는 행동의 최소 횟수를 출력한다.\n",
        "<br/>\n",
        "\n",
        "### 예제 입력 1 \n",
        "```\n",
        "0001100\n",
        "```\n",
        "<br/>\n",
        "\n",
        "### 예제 출력 1 \n",
        "```\n",
        "1\n",
        "```"
      ]
    },
    {
      "cell_type": "code",
      "metadata": {
        "colab": {
          "base_uri": "https://localhost:8080/"
        },
        "id": "TgFOoDbE1TmN",
        "outputId": "4ebeae58-0f92-4435-f499-f610ab52aeaa"
      },
      "source": [
        "s = input()\n",
        "s_list = list(s)\n",
        "print(len(s_list))\n",
        "\n"
      ],
      "execution_count": 16,
      "outputs": [
        {
          "output_type": "stream",
          "name": "stdout",
          "text": [
            "0011000\n",
            "7\n"
          ]
        }
      ]
    },
    {
      "cell_type": "code",
      "metadata": {
        "colab": {
          "base_uri": "https://localhost:8080/"
        },
        "id": "nAaJ-MeI_qUo",
        "outputId": "b856ecfc-7929-479d-dfcd-068736d4637e"
      },
      "source": [
        "s = input()\n",
        "s_list = list(s)\n",
        "\n",
        "cnt=0\n",
        "cnt_rev = 0\n",
        "for i in s_list:\n",
        "  int_cnt = cnt-int(len(s_list))+1\n",
        "  if i == s_list[int_cnt]:\n",
        "    cnt+=1\n",
        "  else:\n",
        "    cnt_rev+=1\n",
        "    cnt+=1\n",
        "print((cnt_rev+1)//2)"
      ],
      "execution_count": 35,
      "outputs": [
        {
          "output_type": "stream",
          "name": "stdout",
          "text": [
            "0101000\n",
            "2\n"
          ]
        }
      ]
    },
    {
      "cell_type": "code",
      "metadata": {
        "colab": {
          "base_uri": "https://localhost:8080/"
        },
        "id": "6YCWrEKt85P6",
        "outputId": "e6ae2710-bd35-45cb-b85b-199edd8db091"
      },
      "source": [
        "S = input()\n",
        "\n",
        "assert len(S) < 1000000, \"문자열이 너무 깁니다.\"\n",
        "for num in S:\n",
        "    assert num == \"0\" or num == \"1\", \"문자열은 0과 1로만 입력하십시오\"\n",
        "\n",
        "count = 0\n",
        "\n",
        "for i in range(len(S)-1):\n",
        "    if S[i] != S[i+1]:\n",
        "        count += 1\n",
        "print((count+1) // 2)"
      ],
      "execution_count": 30,
      "outputs": [
        {
          "output_type": "stream",
          "name": "stdout",
          "text": [
            "0101000\n",
            "2\n"
          ]
        }
      ]
    },
    {
      "cell_type": "code",
      "metadata": {
        "colab": {
          "base_uri": "https://localhost:8080/"
        },
        "id": "Rjs76nYY9V3s",
        "outputId": "5355bfe6-6d90-4a2f-f05f-75ad5544e01a"
      },
      "source": [
        "import re \n",
        "\n",
        "S = input()\n",
        "\n",
        "arr_0 = re.findall('0{1,}', S)\n",
        "arr_1 = re.findall('1{1,}', S)\n",
        "\n",
        "print(arr_0, \"and\", arr_1)\n",
        "print(min(len(arr_0), len(arr_1)))"
      ],
      "execution_count": 6,
      "outputs": [
        {
          "output_type": "stream",
          "name": "stdout",
          "text": [
            "0001100\n",
            "['000', '00'] and ['11']\n",
            "1\n"
          ]
        }
      ]
    }
  ]
}