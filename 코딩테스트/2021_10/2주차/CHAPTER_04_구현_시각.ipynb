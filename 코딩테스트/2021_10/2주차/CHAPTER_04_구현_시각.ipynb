{
  "nbformat": 4,
  "nbformat_minor": 0,
  "metadata": {
    "colab": {
      "name": "CHAPTER 04 구현 - 시각.ipynb",
      "provenance": [],
      "collapsed_sections": [],
      "authorship_tag": "ABX9TyNgK27j0gs4CL/qR302wqpy",
      "include_colab_link": true
    },
    "kernelspec": {
      "name": "python3",
      "display_name": "Python 3"
    },
    "language_info": {
      "name": "python"
    }
  },
  "cells": [
    {
      "cell_type": "markdown",
      "metadata": {
        "id": "view-in-github",
        "colab_type": "text"
      },
      "source": [
        "<a href=\"https://colab.research.google.com/github/2pterons/Algorithm/blob/main/%EC%BD%94%EB%94%A9%ED%85%8C%EC%8A%A4%ED%8A%B8/2021_10/2%EC%A3%BC%EC%B0%A8/CHAPTER_04_%EA%B5%AC%ED%98%84_%EC%8B%9C%EA%B0%81.ipynb\" target=\"_parent\"><img src=\"https://colab.research.google.com/assets/colab-badge.svg\" alt=\"Open In Colab\"/></a>"
      ]
    },
    {
      "cell_type": "markdown",
      "metadata": {
        "id": "kwGwyhNUrzsQ"
      },
      "source": [
        "# 시각\n",
        "\n",
        "정수 N이 입력되면 00시 00분 00초부터 N시 59분 59초까지의 모든 시각 중에서 3이 하나라도 포함되는 모든 경우의 수를 구하는 프로그램을 작성하시오.<br/>\n",
        "예를 들어 1을 입력했을 때 다음은 3이 하나라도 포함되어 있으므로 세어야 하는 시각이다.<br/>\n",
        "\n",
        "- 00시 00분 03초\n",
        "- 00시 13분 30초\n",
        "\n",
        "반면에 다음은 3이 하나도 포함되어 있지 않으므로 세면 안 되는 시각이다.<br/>\n",
        "- 00시 02분 55초\n",
        "- 01시 27분 45초\n",
        "\n",
        "<br/><br/>\n",
        "\n",
        "### 입력 조건 :\n",
        "첫째 줄에 정수 N이 입력된다. (0 ≤ N < 23)\n",
        "\n",
        "---\n",
        "<br/><br/>\n",
        "\n",
        "### 출력 조건 :\n",
        "00시 00분 00초부터 N시 59분 59초까지의 모든 시각 중에서 3이 하나라도 포함되는 모든 경우의 수를 출력한다.\n",
        "\n",
        "---\n",
        "<br/><br/>\n",
        "\n",
        "### 입력 예시\n",
        "```\n",
        "5\n",
        "```\n",
        "---\n",
        "\n",
        "<br/>\n",
        "\n",
        "### 출력 예시\n",
        "```\n",
        "11475\n",
        "```\n",
        "---\n",
        "\n",
        "<br/><br/>\n",
        "\n",
        "난이도 : ★☆☆ | 풀이 시간 : 15분 | 시간 제한 : 2초 | 메모리 제한 : 128MB <br/>\n",
        "### 소요시간 : "
      ]
    },
    {
      "cell_type": "code",
      "metadata": {
        "colab": {
          "base_uri": "https://localhost:8080/"
        },
        "id": "yCv97WdIrkEC",
        "outputId": "325d5d9e-4e8c-4a69-904c-c04e6dda6842"
      },
      "source": [
        "n = int(input(\"입력:\"))\n",
        "\n",
        "hour = 0\n",
        "min = 0\n",
        "sec = 0\n",
        "\n",
        "cnt = 0\n",
        "while hour < n:\n",
        "  for i in range(0, 60):\n",
        "    for j in range(0, 60):\n",
        "      sec += j\n",
        "      if hour % 3 == 0 or min % 3 == 0 or sec % 3 == 0:\n",
        "        cnt += 1\n",
        "    min += 1\n",
        "  hour+= 1\n",
        "\n",
        "print(cnt)"
      ],
      "execution_count": null,
      "outputs": [
        {
          "output_type": "stream",
          "name": "stdout",
          "text": [
            "입력:5\n",
            "15600\n"
          ]
        }
      ]
    },
    {
      "cell_type": "markdown",
      "metadata": {
        "id": "c9hTtEZQw714"
      },
      "source": [
        "<br/><br/>\n",
        "\n",
        "# 서적 답안 예시"
      ]
    },
    {
      "cell_type": "code",
      "metadata": {
        "colab": {
          "base_uri": "https://localhost:8080/"
        },
        "id": "trtvvZPOry6j",
        "outputId": "2accb970-b0df-49db-aecc-b1d327eb9347"
      },
      "source": [
        "# H를 입력받기\n",
        "h = int(input())\n",
        "\n",
        "count = 0\n",
        "for i in range(h + 1):\n",
        "  for j in range(60):\n",
        "    for k in range(60):\n",
        "      #매 시각 안에 '3'이 포함되어 있다연 카운트 증가\n",
        "      if '3' in str(i) + str(j) + str(k):\n",
        "        count += 1\n",
        "\n",
        "print(count)"
      ],
      "execution_count": null,
      "outputs": [
        {
          "output_type": "stream",
          "name": "stdout",
          "text": [
            "5\n",
            "11475\n"
          ]
        }
      ]
    },
    {
      "cell_type": "code",
      "metadata": {
        "id": "nxwVQSwBvOfT"
      },
      "source": [
        ""
      ],
      "execution_count": null,
      "outputs": []
    }
  ]
}