{
  "nbformat": 4,
  "nbformat_minor": 0,
  "metadata": {
    "colab": {
      "name": "CHAPTER 04 ①문자열압축.ipynb",
      "provenance": [],
      "collapsed_sections": [],
      "authorship_tag": "ABX9TyNYPLRtKn+h203cKnWLY+ke",
      "include_colab_link": true
    },
    "kernelspec": {
      "name": "python3",
      "display_name": "Python 3"
    },
    "language_info": {
      "name": "python"
    }
  },
  "cells": [
    {
      "cell_type": "markdown",
      "metadata": {
        "id": "view-in-github",
        "colab_type": "text"
      },
      "source": [
        "<a href=\"https://colab.research.google.com/github/2pterons/Algorithm/blob/main/%EC%BD%94%EB%94%A9%ED%85%8C%EC%8A%A4%ED%8A%B8/2021_10/2%EC%A3%BC%EC%B0%A8/CHAPTER_04_%E2%91%A0%EB%AC%B8%EC%9E%90%EC%97%B4%EC%95%95%EC%B6%95.ipynb\" target=\"_parent\"><img src=\"https://colab.research.google.com/assets/colab-badge.svg\" alt=\"Open In Colab\"/></a>"
      ]
    },
    {
      "cell_type": "markdown",
      "metadata": {
        "id": "LfNLBiXOewB0"
      },
      "source": [
        "# **문자열 압축** \n",
        "### **문제 설명**\n",
        "데이터 처리 전문가가 되고 싶은 \"어피치\"는 문자열을 압축하는 방법에 대해 공부를 하고 있습니다.<br/>\n",
        "최근에 대량의 데이터 처리를 위한 간단한 비손실 압축 방법에 대해 공부를 하고 있는데,<br/>\n",
        "문자열에서 같은 값이 연속해서 나타나는 것을 그 문자의 개수와 반복되는 값으로 표현하여<br/>\n",
        "더 짧은 문자열로 줄여서 표현하는 알고리즘을 공부하고 있습니다.<br/>\n",
        "<br/>\n",
        "간단한 예로 \"aabbaccc\"의 경우 \"2a2ba3c\"(문자가 반복되지 않아 한번만 나타난 경우 1은 생략함)<br/>\n",
        "와 같이 표현할 수 있는데,<br/>\n",
        "이러한 방식은 반복되는 문자가 적은 경우 압축률이 낮다는 단점이 있습니다.<br/>\n",
        "예를 들면, \"abcabcdede\"와 같은 문자열은 전혀 압축되지 않습니다.<br/>\n",
        "\"어피치\"는 이러한 단점을 해결하기 위해 문자열을 1개 이상의 단위로 잘라서 압축하여<br/>\n",
        "더 짧은 문자열로 표현할 수 있는지 방법을 찾아보려고 합니다.<br/><br/>\n",
        "\n",
        "예를 들어, \"ababcdcdababcdcd\"의 경우 문자를 1개 단위로 자르면 전혀 압축되지 않지만,<br/>\n",
        "2개 단위로 잘라서 압축한다면 \"2ab2cd2ab2cd\"로 표현할 수 있습니다.<br/>\n",
        "다른 방법으로 8개 단위로 잘라서 압축한다면 \"2ababcdcd\"로 표현할 수 있으며,<br/> 이때가 가장 짧게 압축하여 표현할 수 있는 방법입니다.<br/><br/>\n",
        "\n",
        "다른 예로, \"abcabcdede\"와 같은 경우, 문자를 2개 단위로 잘라서 압축하면 \"abcabc2de\"가 되지만,<br/>\n",
        "3개 단위로 자른다면 \"2abcdede\"가 되어 3개 단위가 가장 짧은 압축 방법이 됩니다.<br/>\n",
        "이때 3개 단위로 자르고 마지막에 남는 문자열은 그대로 붙여주면 됩니다.<br/><br/>\n",
        "\n",
        "압축할 문자열 s가 매개변수로 주어질 때, 위에 설명한 방법으로 1개 이상 단위로 문자열을 잘라 압축하여<br/>\n",
        "표현한 문자열 중 가장 짧은 것의 길이를 return 하도록 solution 함수를 완성해주세요.<br/><br/>\n",
        "\n",
        "### **제한사항**\n",
        "s의 길이는 1 이상 1,000 이하입니다.\n",
        "s는 알파벳 소문자로만 이루어져 있습니다.<br/><br/>\n",
        "\n",
        "### **입출력 예**\n",
        "```\n",
        "             s\t             result\n",
        "\"aabbaccc\"\t                 7\n",
        "\"ababcdcdababcdcd\"\t         9\n",
        "\"abcabcdede\"\t               8\n",
        "\"abcabcabcabcdededededede\"\t 14\n",
        "\"xababcdcdababcdcd\"\t        17\n",
        "```\n",
        "\n",
        "<br/>\n",
        "\n",
        "### **입출력 예에 대한 설명**\n",
        "### 입출력 예 #1\n",
        "\n",
        "문자열을 1개 단위로 잘라 압축했을 때 가장 짧습니다.\n",
        "\n",
        "### 입출력 예 #2\n",
        "\n",
        "문자열을 8개 단위로 잘라 압축했을 때 가장 짧습니다.\n",
        "\n",
        "### 입출력 예 #3\n",
        "\n",
        "문자열을 3개 단위로 잘라 압축했을 때 가장 짧습니다.\n",
        "\n",
        "### 입출력 예 #4\n",
        "\n",
        "문자열을 2개 단위로 자르면 \"abcabcabcabc6de\" 가 됩니다.<br/>\n",
        "문자열을 3개 단위로 자르면 \"4abcdededededede\" 가 됩니다.<br/>\n",
        "문자열을 4개 단위로 자르면 \"abcabcabcabc3dede\" 가 됩니다.<br/>\n",
        "문자열을 6개 단위로 자를 경우 \"2abcabc2dedede\"가 되며, 이때의 길이가 14로 가장 짧습니다.<br/>\n",
        "\n",
        "### 입출력 예 #5\n",
        "\n",
        "문자열은 제일 앞부터 정해진 길이만큼 잘라야 합니다.<br/>\n",
        "따라서 주어진 문자열을 x / ababcdcd / ababcdcd 로 자르는 것은 불가능 합니다.<br/>\n",
        "이 경우 어떻게 문자열을 잘라도 압축되지 않으므로 가장 짧은 길이는 17이 됩니다."
      ]
    },
    {
      "cell_type": "code",
      "metadata": {
        "id": "ytl6J2cCeuzg"
      },
      "source": [
        "def solution(s): \n",
        "    result=[] \n",
        "    if len(s)==1: \n",
        "        return 1\n",
        "    \n",
        "    for i in range(1, (len(s)//2)+1): \n",
        "        b = '' \n",
        "        cnt = 1 \n",
        "        tmp=s[:i] \n",
        "        \n",
        "        for j in range(i, len(s), i):\n",
        "            if tmp==s[j:i+j]: \n",
        "                cnt+=1 \n",
        "            else: \n",
        "                if cnt!=1: \n",
        "                    b = b + str(cnt)+tmp \n",
        "                else: \n",
        "                    b = b + tmp \n",
        "                tmp=s[j:j+i] \n",
        "                cnt = 1 \n",
        "        if cnt!=1: b = b + str(cnt) + tmp \n",
        "        else: \n",
        "            b = b + tmp \n",
        "            \n",
        "        result.append(len(b)) \n",
        "    return min(result)\n"
      ],
      "execution_count": null,
      "outputs": []
    },
    {
      "cell_type": "markdown",
      "metadata": {
        "id": "2uRvOUZwhdg-"
      },
      "source": [
        "### **풀이과정**\n",
        "\n",
        "-  N개 단위로 문자열 슬라이싱을 반복한다 → N의 범위는? 최대가 절반인듯?\n",
        "  - 1-1. 자르다가 남는게 생기면? → 뒤에다가 이어붙인다.<br/>\n",
        "- 자른 문자열을 가지고 압축문자열을 만든다. → 그 자른 단위들이 몇개가 있는지 어떻게 계산할 것인가?<br/>\n",
        "예를들어 aaaabbcc를 2개씩 자른 압축문자열로 만들면 2aabbcc가 된다.<br/>\n",
        "aa가 2개인걸 어떻게 알아내는가?<br/>\n",
        "추가로 bb가 1개, cc가 1개인데 압축문자열로 만들땐 1을 생략한다.<br/>\n",
        "- 이렇게 N개 단위로 자른 문자열들을 모아서 그 중에서 가장 길이가 짧은 걸 리턴한다.<br/><br/>\n",
        "\n",
        "크게 보면 이런 요구사항을 해결해야한다.\n",
        "### 1. N개 단위로 문자열을 자른다.\n",
        "우선, N의 범위를 구하기 위해 가장 큰 경우를 생각해보면 aabbaabbcc처럼 전체를 딱 반으로 나뉘는 경우다.<br/>\n",
        "그래서 n의 전체범위는 1개 단위로 자르는거부터, **전체길이의 절반의 개수**까지가 된다. range()에는 len(s)//2+1이다.\n",
        "그리고 N개씩 문자열을 자른다. >> 여기가 관건!<br/>\n",
        "자르기 위해서 n개씩 증가하는 for문을 돌고, i부터 i+n까지 (문자열의 길이가 n개) 문자열을 슬라이싱하면 된다.<br/><br/>\n",
        "\n",
        "### 2. 자른문자열을 가지고 압축문자열을 만든다. \n",
        "--> 그 자른 단위들이 몇개가 있는지 어떻게 계산할 것인가?<br/>\n",
        "이제 이렇게 각각의 자른 문자열 하나하나에 대해서 개수를 세야한다. (위의 포문 안에서 진행) 사실 여기에서 헤맸다.<br/>\n",
        "처음에는 dict를 사용해서 count한 값을 넣으려고 했다.<br/>\n",
        "그런데 생각해보니 이렇게 되면 단위문자가 key가 되서 압축값이 안된다.<br/>\n",
        "예를 들어 aabbaaaaa일 경우 내가원한 압축개수는 1aa 1bb 3aa이여야하는데 key가 되는 바람에 4aa 1bb가 되더라.<br/>\n",
        "\n",
        "**그래서 직접 슬라이싱 한 문자열(tmp)과 비교해서 개수를 세도록 했다. **<br/>\n",
        "**현재 단위문자열(tmp)를 N개의 크기만큼 슬라이싱하도록 초기화한다.**\n",
        "그리고 수행하게 될 포문은 이제 단위문자열의 담음문자부터 **N개의 크기만큼 반복**한다.<br/>\n",
        "예를들어, 2개단위로 자른다고 할 경우 i=2,4,6,8, 이며 N개의 크기만큼 건너뛰면서 문자열을 확인할 인덱스이다.<br/>\n",
        "**그래서 s[i:i+n]이 다음 문자열부터 자를 단위문자열만큼 슬라이싱한 값이 된다.  즉 비료할 다음 단위문자열이다.**\n",
        "<br/>\n",
        "이제 현재단위문자열(tmp)와 다음문자열(s[i:i+n])이 같은지를 비교하면 개수를 셀 수 있다.<br/>\n",
        "같다면 갯수를 늘리고, 같지 않다면 처음으로 들어온 단위문자열이기 때문에 cnt는 1이 된다. <br/>\n",
        "**그리고 다음 비교를 위해 현재단위문자열(tmp)를 다음문자열로 이동한다.**\n",
        "<br/>\n",
        "### 2-1. 추가로 슬라이싱한 문자열의 개수가 1일때는 cnt가 생략된채 표현된다.\n",
        "예를들면 1aa1bb가 아니라 aabb인 것이다.<br/>\n",
        "그래서 cnt가 1일 때는 cnt없이 문자열만 표현한다.<br/>\n",
        "**반면에 여러번 들어온 문자열이라면 이제 최정적인 압축문자열(res)를 만들어준다.**<br/><br/>\n",
        "\n",
        "### 3. 마지막으로 길이가 가장 짧은 것을 리턴한다.\n",
        "처음엔 이 압축 문자열을 다 구해서, length=[]라는 리스트에 다 넣고, 그 안에서 길이가 제일 짧은걸 가져오려고 했는데<br/>\n",
        "굳이 그렇게 안해도 min()으로 할 수 있을 것 같다.\n",
        "}\n"
      ]
    },
    {
      "cell_type": "code",
      "metadata": {
        "id": "XJ9awuVNnjME"
      },
      "source": [
        ""
      ],
      "execution_count": null,
      "outputs": []
    }
  ]
}