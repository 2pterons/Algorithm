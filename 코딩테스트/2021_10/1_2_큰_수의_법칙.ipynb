{
  "nbformat": 4,
  "nbformat_minor": 0,
  "metadata": {
    "colab": {
      "name": "1-2.큰 수의 법칙.ipynb",
      "provenance": [],
      "collapsed_sections": [],
      "authorship_tag": "ABX9TyOWeMrkNUITy2o3yi28hGJ1",
      "include_colab_link": true
    },
    "kernelspec": {
      "name": "python3",
      "display_name": "Python 3"
    },
    "language_info": {
      "name": "python"
    }
  },
  "cells": [
    {
      "cell_type": "markdown",
      "metadata": {
        "id": "view-in-github",
        "colab_type": "text"
      },
      "source": [
        "<a href=\"https://colab.research.google.com/github/2pterons/Algorithm/blob/main/%EC%BD%94%EB%94%A9%ED%85%8C%EC%8A%A4%ED%8A%B8/2021_10/1_2_%ED%81%B0_%EC%88%98%EC%9D%98_%EB%B2%95%EC%B9%99.ipynb\" target=\"_parent\"><img src=\"https://colab.research.google.com/assets/colab-badge.svg\" alt=\"Open In Colab\"/></a>"
      ]
    },
    {
      "cell_type": "markdown",
      "metadata": {
        "id": "Ss0hg3TMfICf"
      },
      "source": [
        "(실전문제)\n",
        "# 큰 수의 법칙\n",
        "난이도: ★☆☆  |  풀이 시간: 30분  |  시간 제한: 1초  |  메모리 제한 128MB  |  기출: 2019 국가 교육기관 코딩 테스트<br/>\n",
        "### 문제:\n",
        "'큰 수의 법칙'은 일반적으로 통계 분야에서 다루어지는 내용이지만 동빈이는 본인만의 방식으로 다르게 사용하고 있다.<br/>\n",
        "동빈이의 큰 수의 법칙은 다양한 수로 이루어진 배열이 있을 때 주어진 수들을\n",
        "M번 더하여 가장 큰 수를 만드는 법칙이다.<br/>\n",
        "***단, 배열의 특정한 인덱스(번호)에 해당하는 수가 연속해서 K번을 초과하여 더해질 수 없는 것이 이 법칙의 특징이다.*** <br/>\n",
        "예를 들어 순서대로 2, 4, 5, 4, 6으로 이루어진 배열이 있을 때 M이 8이고, K가 3이라고 가정하자.<br/>\n",
        "이 경우 특정한 인덱스의 수가 연속해서 세 번까지만 더해질 수 있으므로 큰 수의 법칙에 따른 결과는 6 +6 +6 +5+6+ 6 + 6 + 5인 46이 된다.<br/>\n",
        "단, 서로 다른 인덱스에 해당하는 수가 같은 경우에도 서로 다른 것으로 간주한다. 예를 들어 순서대로 3, 4, 3, 4, 3으로 이루어진 배열이 있을 때 이 7이고, K가 2라고 가정하자.<br/>\n",
        "이 경우 두 번째 원소에 해당하는 4와 네 번째 원소에 해당하는 4를 번갈아 두 번씩 더하는 것이 가능하다.<br/>\n",
        "결과적으로 4+4+4+ 4 + 4 + 4 + 4인 28이 도출된다.<br/><br/>\n",
        "**배열의 크기 N, 숫자가 더해지는 횟수 M, 그리고 K가 주어질 때 동빈이의 큰 수의 법칙에 따른 결과를 출력하시오.**"
      ]
    },
    {
      "cell_type": "markdown",
      "metadata": {
        "id": "xk10tt54kYq8"
      },
      "source": [
        "### 예시1\n",
        "\n",
        "```\n",
        "ex_list = [2,4,5,4,6]\n",
        "m = 8\n",
        "k = 3\n",
        "\n",
        "```\n",
        "<br/>\n",
        "\n",
        "### 예시2\n",
        "이 경우 특정한 인덱스의 수가 연속해서 세 번까지만 더해질 수 있으므로 큰 수의 법칙에 따른 결과는<br/>\n",
        "6 + 6 + 6 + 5 + 6 + 6 + 6 + 5 = 46\n",
        "<br/><br/>\n",
        "```\n",
        "ex_list = [3,4,3,4,3]\n",
        "m = 7\n",
        "k = 2\n",
        "```\n",
        "4 + 4 + 4 + 4 + 4 + 4 + 4 = 28 <br/><br/>\n",
        "**배열의 크기 N, 숫자가 더해지는 횟수 M, 그리고  K가 주어질 때 동빈이의 큰 수의 법칙에 따른 결과를 출력하라.**"
      ]
    },
    {
      "cell_type": "markdown",
      "metadata": {
        "id": "zt9qE9kzkq99"
      },
      "source": [
        "입력조건:<br/>\n",
        "* 첫째 줄에 N(2 < N < 1,000), M(1 < M < 10,000), K(1 < K ⑤ 10,000)의 자연수가 주어지며, 각 자연수는 공백으로 구분한다.\n",
        "* 둘째 줄에 N개의 자연수가 주어진다. 각 자연주는 공백으로 구분한다. 단, 각각의 자연수는 1 이상 10,000 이하의 수로 주어진다.\n",
        "* 입력으로 주어지는 K는 항상 M보다 작거나 같다.\n",
        "<br/>출력조건:<br/>\n",
        "* 첫째 줄에 동빈이의 큰 수의 법칙에 따라 더해진 답을 출력한다.\n",
        "<br/><br/>\n",
        "\n",
        "입력예시<br/>\n",
        "\n",
        "```\n",
        "5 8 3\n",
        "2 4 5 4 6\n",
        "```\n",
        "<br/>\n",
        "\n",
        "출력예시<br/>\n",
        "\n",
        "```\n",
        "46\n",
        "```"
      ]
    },
    {
      "cell_type": "code",
      "metadata": {
        "colab": {
          "base_uri": "https://localhost:8080/"
        },
        "id": "pjZxlkaOvdJN",
        "outputId": "21f9f53a-90f9-452b-8cfa-61d35e4bed64"
      },
      "source": [
        "# N, M, K를 공백으로 구분하여 입력받기\n",
        "n, m, k = map(int, input().split())\n",
        "\n",
        "# N개의 수를 공백으로 구분하여 입력받기\n",
        "data = list(map(int, input().split()))\n",
        "\n",
        "data.sort() # 입력받은 수들 정렬하기\n",
        "first = data[n - 1] # 가장 큰 수\n",
        "second = data[n - 2] # 두 번째로 큰 수\n",
        "\n",
        "result = 0\n",
        "\n",
        "while True:\n",
        "  for i in range(k): # 가장 큰 수를 K번 더하기]\n",
        "    if m == 0: # m이 0이라면 반복문 탈출\n",
        "      break\n",
        "    result += first\n",
        "    m -= 1 # 더할 때마다 1씩 빼기\n",
        "  if m == 0: # m이 0이라면 반복문 탈출\n",
        "    break\n",
        "  result += second # 두 번째로 큰 수를 한 번 더하기\n",
        "  m -= 1 # 더할 때마다 1씩 빼기\n",
        "\n",
        "print(result) # 최종 답안 출력"
      ],
      "execution_count": 10,
      "outputs": [
        {
          "output_type": "stream",
          "name": "stdout",
          "text": [
            "5 8 3\n",
            "2 4 5 4 6\n",
            "46\n"
          ]
        }
      ]
    },
    {
      "cell_type": "markdown",
      "metadata": {
        "id": "BZ7_qOC8w5b3"
      },
      "source": [
        "### 소요시간: 46분 | 수행여부: X\n",
        "<br/><br/>\n",
        "*(tip)* <br/>\n",
        "파이썬 프로그래밍이 익숙하지 않은 독자라면, 입력을 받는 부분이 어색할 수 있다. <br/>\n",
        "입력을 받는 코드 부분이 이해가 잘 가지 않는다면 부록 A의 '5절, 입출력' 문법 부분을 확인하자.<br/>\n",
        "파이썬에서 여러 데이터를 한꺼번에 입력받을 때에는 list()와 map()을 이용하는데, <br/>\n",
        "앞으로도 이 책에서 계속 사용하게 될 형태이므로 익숙해질 필요가 있다."
      ]
    },
    {
      "cell_type": "markdown",
      "metadata": {
        "id": "xb8I3j0Dxwwj"
      },
      "source": [
        "int(M / (K + 1)) * K + M % (K + 1) <br/>\n",
        "결과적으로 위의 식을 이용하여 가장 큰 수가 더해지는 횟수를 구한 다음, <br/>\n",
        "이를 이용해 두 번째로 큰 수가 더해지는 횟수까지 구할 수 있는 것이다. <br/>\n",
        "이를 토대로 파이썬을 이용해 답안을 작성하면 다음과 같다."
      ]
    },
    {
      "cell_type": "code",
      "metadata": {
        "id": "HSesOXQMfB2A"
      },
      "source": [
        "# 배열의 크기 N, 숫자가 더해지는 횟수 M, 그리고  K가 주어질 때 동빈이의 큰 수의 법칙에 따른 결과를 출력하라.\n",
        "\n",
        "ex = []\n",
        "for i in range(0, 3):\n",
        "  insert = int(input())\n",
        "  ex.append(insert)\n",
        "\n",
        "\n",
        "n = ex[0] # 배열의 크기\n",
        "m = ex[1] # 더해지는 횟수\n",
        "k = ex[2] # 특정한 인덱스에 해당하는 수 연속 k번 덧셈 제한\n",
        "special = 1\n",
        "\n",
        "num = [] # 숫자를 담을 배열\n",
        "result = 0 # 결과값\n",
        "for i in range(0, n):\n",
        "  insert = int(input())\n",
        "  num.append(insert)\n",
        "\n",
        "for i in num:\n",
        "  num[special] = int(num[special]) * 3\n",
        "  print(num[i])\n",
        "  for j in i:\n",
        "    result += int(j)\n",
        "    \n",
        "    \n",
        "\n"
      ],
      "execution_count": null,
      "outputs": []
    },
    {
      "cell_type": "markdown",
      "metadata": {
        "id": "mPLGYK3hyDih"
      },
      "source": [
        "<br/><br/>\n",
        "# 처음 문제를 이해하지 못했을 때 만들었던 실패 코드"
      ]
    },
    {
      "cell_type": "code",
      "metadata": {
        "id": "e5LRRp1LxsYf"
      },
      "source": [
        "# N, M, K를 공백으로 구분하여 입력받기\n",
        "n, m, k = map(int, input().split())\n",
        "* N개의 수를 공백으로 구분하여 입력받기\n",
        "data =\n",
        "list(map(int, input().split()))\n",
        "data.sort() # 입력받은 수 정렬\n",
        "first = data[n - 1] # 가장 큰 수\n",
        "second = data[n 2) # 두 번째로 큰 수\n",
        "# 가장 큰 수가 더해지는 횟수 계산\n",
        "Count = int(m / (k + 1)) * k\n",
        "count += m % (k + 1)\n",
        "result = 0\n",
        "result += (count) * first # 가장 큰 수 더하기\n",
        "result += (m - count) * second # 두 번째로 큰 수 더하기\n",
        "print(result) # 최종 답안 출력"
      ],
      "execution_count": null,
      "outputs": []
    }
  ]
}