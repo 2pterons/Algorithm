{
  "nbformat": 4,
  "nbformat_minor": 0,
  "metadata": {
    "colab": {
      "name": "로켓펀치사이트_데이터수집.ipynb",
      "provenance": [],
      "authorship_tag": "ABX9TyPkfQ3/2jeNpwsLufJeKOiI",
      "include_colab_link": true
    },
    "kernelspec": {
      "name": "python3",
      "display_name": "Python 3"
    },
    "language_info": {
      "name": "python"
    }
  },
  "cells": [
    {
      "cell_type": "markdown",
      "metadata": {
        "id": "view-in-github",
        "colab_type": "text"
      },
      "source": [
        "<a href=\"https://colab.research.google.com/github/2pterons/Algorithm/blob/main/%EB%A1%9C%EC%BC%93%ED%8E%80%EC%B9%98%EC%82%AC%EC%9D%B4%ED%8A%B8_%EB%8D%B0%EC%9D%B4%ED%84%B0%EC%88%98%EC%A7%91.ipynb\" target=\"_parent\"><img src=\"https://colab.research.google.com/assets/colab-badge.svg\" alt=\"Open In Colab\"/></a>"
      ]
    },
    {
      "cell_type": "code",
      "metadata": {
        "id": "6brk0yRvK03j"
      },
      "source": [
        "import requests\n",
        "import json\n",
        "from bs4 import BeautifulSoup\n",
        "\n",
        "results = []\n",
        "page = 1\n",
        "\n",
        "while page < 3:\n",
        "\n",
        "    response = requests.get('https://www.rocketpunch.com/api/jobs/template?page=' + str(page) + '&q=')\n",
        "    data = json.loads(response.text)\n",
        "    bs = BeautifulSoup(data['data']['template'], \"html.parser\")\n",
        "\n",
        "    for company in bs.select(\".company.item\"):\n",
        "\n",
        "        result = {\n",
        "            'name': company.select_one(\".company-name strong\").text\n",
        "            ,'description': company.select_one(\".description\").text\n",
        "            ,'jobs': []\n",
        "        }\n",
        "\n",
        "        #name = company.select_one(\".company-name strong\").text\n",
        "        #description = company.select_one(\".description\").text\n",
        "\n",
        "        for job in company.select(\".job-detail > div > a.job-title\"):\n",
        "            result['jobs'].append(job.text)\n",
        "\n",
        "        results.append(result)\n",
        "\n",
        "    print(results)\n",
        "    page += 1\n"
      ],
      "execution_count": null,
      "outputs": []
    }
  ]
}