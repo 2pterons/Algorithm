{
  "nbformat": 4,
  "nbformat_minor": 0,
  "metadata": {
    "colab": {
      "name": "1) 그리디 알고리즘.ipynb",
      "provenance": [],
      "authorship_tag": "ABX9TyP6vU2HLJj73Acsa7GrPdtk",
      "include_colab_link": true
    },
    "kernelspec": {
      "name": "python3",
      "display_name": "Python 3"
    },
    "language_info": {
      "name": "python"
    }
  },
  "cells": [
    {
      "cell_type": "markdown",
      "metadata": {
        "id": "view-in-github",
        "colab_type": "text"
      },
      "source": [
        "<a href=\"https://colab.research.google.com/github/2pterons/Algorithm/blob/main/1)_%EA%B7%B8%EB%A6%AC%EB%94%94_%EC%95%8C%EA%B3%A0%EB%A6%AC%EC%A6%98.ipynb\" target=\"_parent\"><img src=\"https://colab.research.google.com/assets/colab-badge.svg\" alt=\"Open In Colab\"/></a>"
      ]
    },
    {
      "cell_type": "code",
      "source": [
        "n = 1260\n",
        "count = 0\n",
        "\n",
        "# 큰 단위의 화폐부터 차례대로 확인하기\n",
        "array = [500, 100, 50, 10]\n",
        "\n",
        "for coin in array:\n",
        "  count += n // coin # 해당 화폐로 거슬러 줄 수 있는 동전의 개수 세기\n",
        "  n %= coin\n",
        "\n",
        "print(count)"
      ],
      "metadata": {
        "colab": {
          "base_uri": "https://localhost:8080/"
        },
        "id": "QAY9CyRbvIQo",
        "outputId": "f4945c75-dd9d-44e8-b79d-62d737ce89df"
      },
      "execution_count": null,
      "outputs": [
        {
          "output_type": "stream",
          "name": "stdout",
          "text": [
            "6\n"
          ]
        }
      ]
    },
    {
      "cell_type": "markdown",
      "source": [
        "<br/><br/>\n",
        "# <문제> 1이 될 때까지\n"
      ],
      "metadata": {
        "id": "UP9bUxgjvs4k"
      }
    },
    {
      "cell_type": "code",
      "source": [
        "n, k = map(int, input().split())\n",
        "result = 0\n",
        "\n",
        "# N이 K 이상이라면 K로 계속 나누기\n",
        "while n >= k:\n",
        "  # N이 K로 나누어 떨어지지 않는다면 N에서 1씩 빼기\n",
        "  while n % k != 0:\n",
        "    n -= 1\n",
        "    result += 1\n",
        "  # K로 나누기\n",
        "  n //= k\n",
        "  result += 1\n",
        "\n",
        "# 마지막으로 남은 수에 대하여 1씩 빼기\n",
        "while n > 1:\n",
        "  n -= 1\n",
        "  result += 1\n",
        "\n",
        "print(result)"
      ],
      "metadata": {
        "colab": {
          "base_uri": "https://localhost:8080/"
        },
        "id": "izB7iMbY7HeW",
        "outputId": "ab09187f-0574-47c6-bc04-0e30557d82a8"
      },
      "execution_count": null,
      "outputs": [
        {
          "output_type": "stream",
          "name": "stdout",
          "text": [
            "9 3\n",
            "2\n"
          ]
        }
      ]
    },
    {
      "cell_type": "code",
      "source": [
        "# N, K을 공백을 기준으로 구분하여 입력 받기\n",
        "n, k = map(int, input().split())\n",
        "\n",
        "result = 0\n",
        "\n",
        "while True:\n",
        "  # N이 K로 나누어 떨어지는 수가 될 때까지 빼기\n",
        "  target = (n // k) * k\n",
        "  result += (n - target)\n",
        "  n = target\n",
        "  # N이 K보다 작을 때 (더 이상 나눌 수 없을 때) 반복문 탈출\n",
        "  if n < k:\n",
        "    break\n",
        "  # K로 나누기\n",
        "  result += 1\n",
        "  n //= k\n",
        "\n",
        "# 마지막으로 남은 수에 대하여 1씩 빼기\n",
        "result += (n - 1)\n",
        "print(result)"
      ],
      "metadata": {
        "colab": {
          "base_uri": "https://localhost:8080/"
        },
        "id": "W5qx68S8xx84",
        "outputId": "855d8431-2b8c-46b7-811d-e7384dbd7ddf"
      },
      "execution_count": null,
      "outputs": [
        {
          "output_type": "stream",
          "name": "stdout",
          "text": [
            "3963423 4968483\n",
            "3963422\n"
          ]
        }
      ]
    },
    {
      "cell_type": "markdown",
      "source": [
        "<br/><br/>\n",
        "# 곱하기 혹은 더하기"
      ],
      "metadata": {
        "id": "w16PX2is5VKd"
      }
    },
    {
      "cell_type": "code",
      "source": [
        "data = input()\n",
        "\n",
        "# 첫 번째 문자를 숫자로 변경하여 대입\n",
        "result = int(data[0])\n",
        "\n",
        "for i in range(1, len(data)):\n",
        "  # 두 수 중에서 하나라도 '0' 혹은 '1'인 경우, 곱하기보다는 더하기 수행\n",
        "  num = int(data[i])\n",
        "  if num <= 1 or result <= 1:\n",
        "    result += num\n",
        "  else:\n",
        "    result *= num\n",
        "\n",
        "print(result)"
      ],
      "metadata": {
        "colab": {
          "base_uri": "https://localhost:8080/"
        },
        "id": "vw4kY59m950e",
        "outputId": "a7279a1e-26e8-4dcf-c022-0c9e5f6f4bd6"
      },
      "execution_count": null,
      "outputs": [
        {
          "output_type": "stream",
          "name": "stdout",
          "text": [
            "12345\n",
            "180\n"
          ]
        }
      ]
    },
    {
      "cell_type": "markdown",
      "source": [
        "<br/><br/>\n",
        "# 모험가 길드"
      ],
      "metadata": {
        "id": "QA_6Ej4I-WM4"
      }
    },
    {
      "cell_type": "code",
      "source": [
        "n = int(input())\n",
        "data = list(map(int, input().split()))\n",
        "data.sort() # 오름차순으로 정렬\n",
        "\n",
        "result = 0 # 총 그룹의 수\n",
        "count = 0 # 현재 그룹에 포함된 모험가의 수\n",
        "\n",
        "for i in data: # 공포도를 낮은 것부터 하나씩 확인하며\n",
        "  count += 1 # 현재 그룹에 해당 모험가를 포함시키기\n",
        "  if count >= i: # 현재 그룹에 포함된 모험가의 수가 현재의 공포도 이상이라면 , 그룹 결성\n",
        "    result += 1 # 총 그룹의 수 증가시키기\n",
        "    count = 0 # 현재 그룹에 포함된 모험가의 수 초기화\n",
        "\n",
        "print(result) # 총 그룹의 수 출력\n",
        " "
      ],
      "metadata": {
        "colab": {
          "base_uri": "https://localhost:8080/"
        },
        "id": "CxCDgAeCBm90",
        "outputId": "77b1bf55-ff49-487f-cee0-4521f2963da3"
      },
      "execution_count": null,
      "outputs": [
        {
          "output_type": "stream",
          "name": "stdout",
          "text": [
            "5\n",
            "2 8 3 4 6\n",
            "0\n"
          ]
        }
      ]
    },
    {
      "cell_type": "code",
      "source": [
        "n = int(input())\n",
        "data = list(map(int, input().split()))\n",
        "data.sort()\n",
        "\n",
        "count = 0\n",
        "result = 0\n",
        "for i in data:\n",
        "  count += 1\n",
        "  if count >= i:\n",
        "    result += 1\n",
        "    count = 0\n",
        "\n",
        "print(result)"
      ],
      "metadata": {
        "colab": {
          "base_uri": "https://localhost:8080/"
        },
        "id": "R1x-tN_0DTDU",
        "outputId": "0dbf1ca0-b053-4ece-c2d1-2c072d9d8a05"
      },
      "execution_count": null,
      "outputs": [
        {
          "output_type": "stream",
          "name": "stdout",
          "text": [
            "5\n",
            "3 6 4 3 2\n",
            "1\n"
          ]
        }
      ]
    },
    {
      "cell_type": "markdown",
      "source": [
        "<br/><br/>\n",
        "# 백준 1461 도서관"
      ],
      "metadata": {
        "id": "bsfpbL54GALf"
      }
    },
    {
      "cell_type": "code",
      "source": [
        "# 정리해야 할 책의 갯수와 들 수있는 책의 갯수 \n",
        "n, m = map(int, input().split())\n",
        "\n",
        "# 책의 원래 위치\n",
        "loc = list(map(int, input().split()))\n",
        "\n",
        "left = []\n",
        "right = []\n",
        "for i in loc:\n",
        "  if i > 0:\n",
        "    right.append(i)\n",
        "  elif i < 0:\n",
        "    left.append(i)\n",
        "\n",
        "right.reverse()\n",
        "left.sort()\n",
        "\n",
        "print(right, left)\n",
        "\n",
        "result = 0\n",
        "for i in range(0, n-1, m):\n",
        "  result += abs(loc[i])*2\n",
        "  "
      ],
      "metadata": {
        "colab": {
          "base_uri": "https://localhost:8080/"
        },
        "id": "x4Sn3KKZWO9M",
        "outputId": "47b58b81-e41b-460a-d31f-4f677dd175c4"
      },
      "execution_count": 29,
      "outputs": [
        {
          "output_type": "stream",
          "name": "stdout",
          "text": [
            "7 2\n",
            "2 11 12 -37 -39 -2\n",
            "[12, 11, 2] [-39, -37, -2]\n"
          ]
        }
      ]
    },
    {
      "cell_type": "code",
      "source": [
        "result"
      ],
      "metadata": {
        "colab": {
          "base_uri": "https://localhost:8080/"
        },
        "id": "seVLzYVSZZG3",
        "outputId": "aac61062-2cdc-492f-98f1-706aca448d49"
      },
      "execution_count": 19,
      "outputs": [
        {
          "output_type": "execute_result",
          "data": {
            "text/plain": [
              "104"
            ]
          },
          "metadata": {},
          "execution_count": 19
        }
      ]
    },
    {
      "cell_type": "code",
      "source": [
        ""
      ],
      "metadata": {
        "id": "qakIVryuZtNR"
      },
      "execution_count": null,
      "outputs": []
    }
  ]
}