{
  "nbformat": 4,
  "nbformat_minor": 0,
  "metadata": {
    "colab": {
      "name": "20210915_baekjoon.ipynb",
      "provenance": [],
      "collapsed_sections": [],
      "authorship_tag": "ABX9TyOVWt8MiS0L7D2dJDxMgcp+",
      "include_colab_link": true
    },
    "kernelspec": {
      "name": "python3",
      "display_name": "Python 3"
    },
    "language_info": {
      "name": "python"
    }
  },
  "cells": [
    {
      "cell_type": "markdown",
      "metadata": {
        "id": "view-in-github",
        "colab_type": "text"
      },
      "source": [
        "<a href=\"https://colab.research.google.com/github/2pterons/Algorithm/blob/main/20210915_baekjoon.ipynb\" target=\"_parent\"><img src=\"https://colab.research.google.com/assets/colab-badge.svg\" alt=\"Open In Colab\"/></a>"
      ]
    },
    {
      "cell_type": "markdown",
      "metadata": {
        "id": "YUxC9VWG3vwJ"
      },
      "source": [
        "https://www.acmicpc.net/problem/10819\n",
        "\n",
        "# 차이를 최대로\n",
        "\n",
        "### 문제\n",
        "N개의 정수로 이루어진 배열 A가 주어진다. 이때, 배열에 들어있는 정수의 순서를 적절히 바꿔서 다음 식의 최댓값을 구하는 프로그램을 작성하시오.<br/>\n",
        "\n",
        "|A[0] - A[1]| + |A[1] - A[2]| + ... + |A[N-2] - A[N-1]|\n",
        "<br/>\n",
        "- **입력** <br/>\n",
        "첫째 줄에 N (3 ≤ N ≤ 8)이 주어진다. 둘째 줄에는 배열 A에 들어있는 정수가 주어진다. 배열에 들어있는 정수는 -100보다 크거나 같고, 100보다 작거나 같다.<br/><br/>\n",
        "\n",
        "- **출력** <br/>\n",
        "첫째 줄에 배열에 들어있는 수의 순서를 적절히 바꿔서 얻을 수 있는 식의 최댓값을 출력한다.<br/><br/><br/>\n",
        "\n",
        "\n",
        "- 예제 입력1\n",
        "```\n",
        "6\n",
        "20 1 15 8 4 10\n",
        "```\n",
        "<br/>\n",
        "- 예제 출력1\n",
        "```\n",
        "62\n",
        "```\n",
        "\n"
      ]
    },
    {
      "cell_type": "code",
      "metadata": {
        "id": "548eC_mP3puB"
      },
      "source": [
        "import pdb\n",
        "\n",
        "start = int(input(\"N =\"))\n",
        "result = 0\n",
        "num = []\n",
        "for i in range(0, 1):\n",
        "    for j in range(1, start+1):\n",
        "        insert = int(input(\"정수값을 입력해주세요\"))\n",
        "        if insert >= -100 and insert <= 100:\n",
        "            num.append(insert)\n",
        "        else:\n",
        "            print(\"정수가 100보다 그거나 -100보다 작습니다. 시발라마 :)\")\n",
        "            break\n",
        "    abs_sum= 0\n",
        "    for k in range(0, len(num)):\n",
        "        if k < len(num):\n",
        "            result = abs(num[k]-num[k+1])\n",
        "            #pdb.set_trace()\n",
        "            abs_sum += result\n",
        "        else:\n",
        "            break\n",
        "            \n",
        "    #pdb.set_trace()\n",
        "    break\n",
        "print(num)\n",
        "print(result)\n"
      ],
      "execution_count": null,
      "outputs": []
    }
  ]
}